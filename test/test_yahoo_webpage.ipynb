{
 "cells": [
  {
   "cell_type": "code",
   "execution_count": 20,
   "id": "ef4b7528-e5f5-4259-9ac6-d98d7e857998",
   "metadata": {},
   "outputs": [],
   "source": [
    "import numpy as np\n",
    "import pandas as pd\n",
    "import requests\n",
    "from bs4 import BeautifulSoup\n",
    "import json\n",
    "import random\n",
    "import datetime\n"
   ]
  },
  {
   "cell_type": "code",
   "execution_count": 10,
   "id": "f45ded37-1707-448d-993e-da8a808c85f2",
   "metadata": {},
   "outputs": [],
   "source": [
    "def get_header(fn='../data/headers.json', index=-1):\n",
    "    with open(fn, 'r') as fid:\n",
    "        obj = json.load(fid)\n",
    "        if 0 <= index < len(obj):\n",
    "            return obj[index]\n",
    "        else:\n",
    "            return random.sample(obj, 1)[0]\n",
    "\n",
    "def get_option_from_yf(symbol='KRE', date='1737072000', output_dir='.'):\n",
    "    fnout = f'{output_dir}/html_{symbol}_{date}.txt'\n",
    "    if os.path.exists(fnout):\n",
    "        with open(fnout, 'r') as fid:\n",
    "            return fid.read()\n",
    "    else:\n",
    "        url = f'https://finance.yahoo.com/quote/{symbol}/options/?date={date}'\n",
    "        res = requests.get(url, headers=HEADER)\n",
    "        if res.status_code == 200:\n",
    "            with open(fnout, 'w') as fid:\n",
    "                fid.write(res.text)\n",
    "            return res.text\n",
    "        else:\n",
    "            raise ValueError('Failed in connectting YF: res.status_code =', res.status_code)\n",
    "\n",
    "\n",
    "def parse_table(div):\n",
    "    table = defaultdict(list)\n",
    "    for i, tr in enumerate(div.findAll('tr')):\n",
    "        if i == 0:\n",
    "            columns = [td.text.strip() for td in tr.findAll('th')]\n",
    "        else:\n",
    "            for j, td in enumerate(tr.findAll('td')):\n",
    "                print(j, td.text.strip())\n",
    "                table[columns[j]].append(td.text.strip())\n",
    "    return table\n",
    "\n",
    "\n",
    "def parse_html(text):\n",
    "    soup = BeautifulSoup(text, 'lxml')\n",
    "    obj = dict()\n",
    "    h1 = soup.find('section', class_='paddingRight')\n",
    "    if h1:\n",
    "        obj['long_name'] = h1.text.strip()\n",
    "    tmp = soup.find('fin-streamer', {'data-field': 'regularMarketPrice'})\n",
    "    if tmp:\n",
    "        obj['live_price'] = tmp.text.strip()\n",
    "    tables = soup.find('section', {'data-testid': 'options-list-table'}).findAll('div', class_='tableContainer')\n",
    "    obj['call'] = parse_table(tables[0])\n",
    "    obj['put'] = parse_table(tables[1])\n",
    "    return obj"
   ]
  },
  {
   "cell_type": "code",
   "execution_count": 11,
   "id": "cd89022e-6851-451d-bcbd-a5b3db545b6c",
   "metadata": {},
   "outputs": [
    {
     "data": {
      "text/plain": [
       "200"
      ]
     },
     "execution_count": 11,
     "metadata": {},
     "output_type": "execute_result"
    }
   ],
   "source": [
    "url = 'https://finance.yahoo.com/quote/BSX/options/'\n",
    "res = requests.get(url, headers=get_header())\n",
    "res.status_code"
   ]
  },
  {
   "cell_type": "code",
   "execution_count": 19,
   "id": "2b45aaf1-6981-463c-9b9c-2bc854d4bcf4",
   "metadata": {},
   "outputs": [
    {
     "data": {
      "text/plain": [
       "' Aug 16, 2024   Aug 16, 2024  Sep 20, 2024  Nov 15, 2024  Jan 17, 2025  Feb 21, 2025  Jun 20, 2025  Jan 16, 2026  Jun 18, 2026  Dec 18, 2026     All Strike Prices   All Strike Prices  37.50  40.00  42.50  45.00  47.50  50.00  52.50  55.00  57.50  60.00  62.50  65.00  67.50  70.00  72.50  75.00  77.50  80.00  82.50  85.00  90.00  95.00  100.00     List   List  Straddle     All Options   All Options  Calls  Puts    '"
      ]
     },
     "execution_count": 19,
     "metadata": {},
     "output_type": "execute_result"
    }
   ],
   "source": [
    "soup = BeautifulSoup(res.text, 'html')\n",
    "tmp = soup.find('div', {'data-testid': 'options-toolbar'})\n",
    "tmp.find"
   ]
  },
  {
   "cell_type": "code",
   "execution_count": 23,
   "id": "371edcce-fd9f-4c37-bfad-4edb094f9c50",
   "metadata": {},
   "outputs": [
    {
     "data": {
      "text/plain": [
       "datetime.datetime(2024, 8, 16, 0, 0)"
      ]
     },
     "execution_count": 23,
     "metadata": {},
     "output_type": "execute_result"
    }
   ],
   "source": [
    "datetime.datetime(1970, 1, 1) + datetime.timedelta(seconds=1723766400)"
   ]
  },
  {
   "cell_type": "code",
   "execution_count": 41,
   "id": "dfc085cc-b271-4cab-b1c6-b202f1c9afd0",
   "metadata": {},
   "outputs": [
    {
     "name": "stdout",
     "output_type": "stream",
     "text": [
      "2024-08-16 00:00:00\n",
      "2024-09-20 00:00:00\n",
      "2024-11-15 00:00:00\n",
      "2025-01-17 00:00:00\n",
      "2025-02-21 00:00:00\n",
      "2025-06-20 00:00:00\n",
      "2026-01-16 00:00:00\n",
      "2026-06-18 00:00:00\n",
      "2026-12-18 00:00:00\n"
     ]
    }
   ],
   "source": [
    "for d in tmp.find('div', {'role': 'listbox'}).find_all('div', {'role': 'option'}):\n",
    "    print(pd.to_datetime(d.text))\n",
    "    #print(datetime.datetime(d.text.strip()))\n"
   ]
  },
  {
   "cell_type": "code",
   "execution_count": null,
   "id": "01bc9ec6-5566-404e-8f08-97a493261efb",
   "metadata": {},
   "outputs": [],
   "source": []
  }
 ],
 "metadata": {
  "kernelspec": {
   "display_name": "Python 3 (ipykernel)",
   "language": "python",
   "name": "python3"
  },
  "language_info": {
   "codemirror_mode": {
    "name": "ipython",
    "version": 3
   },
   "file_extension": ".py",
   "mimetype": "text/x-python",
   "name": "python",
   "nbconvert_exporter": "python",
   "pygments_lexer": "ipython3",
   "version": "3.10.12"
  }
 },
 "nbformat": 4,
 "nbformat_minor": 5
}
