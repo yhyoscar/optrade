{
 "cells": [
  {
   "cell_type": "code",
   "execution_count": 1,
   "id": "cdc03c20-8b4e-40ae-845d-ec33451c6d77",
   "metadata": {},
   "outputs": [],
   "source": [
    "import os \n",
    "import json \n",
    "import time\n",
    "import random \n",
    "import datetime\n",
    "import selenium\n",
    "from selenium import webdriver\n",
    "from selenium.webdriver.chrome.options import Options\n",
    "from selenium.webdriver.chrome.service import Service\n",
    "from selenium.webdriver.common.proxy import Proxy, ProxyType\n",
    "from selenium.webdriver.support.ui import WebDriverWait \n",
    "from selenium.webdriver.common.by import By \n",
    "from selenium.webdriver.support import expected_conditions as EC   \n",
    "from webdriver_manager.chrome import ChromeDriverManager\n",
    "\n",
    "\n",
    "# function to take care of downloading file\n",
    "def enable_download_headless(browser, download_dir):\n",
    "    browser.command_executor._commands[\"send_command\"] = (\"POST\", '/session/$sessionId/chromium/send_command')\n",
    "    params = {'cmd':'Page.setDownloadBehavior', 'params': {'behavior': 'allow', 'downloadPath': download_dir}}\n",
    "    browser.execute(\"send_command\", params)\n",
    "\n",
    "\n",
    "def setup_driver(proxy=None, headless=True):\n",
    "    # proxy: https://x.x.x.x:port\n",
    "    options = webdriver.ChromeOptions()\n",
    "    # options.binary_location = \"/usr/local/bin/chromedriver\"\n",
    "    # options.headless = headless\n",
    "    #options.add_argument(\"--window-size=1920,1200\")\n",
    "    options.add_argument(\"--disable-dev-shm-usage\")\n",
    "    options.add_argument(\"--no-sandbox\")\n",
    "    options.add_argument(\"start-maximized\")\n",
    "    options.add_argument(\"--disable-blink-features\") \n",
    "    options.add_argument(\"--disable-blink-features=AutomationControlled\")\n",
    "    options.add_argument(\"--disable-extensions\")\n",
    "    options.add_argument(\"--disable-gpu\")\n",
    "    # options.add_argument(\"--remote-debugging-port=9222\")\n",
    "    options.add_argument(\"disable-infobars\")\n",
    "    # options.add_experimental_option(\"prefs\", {\n",
    "    #     \"download.default_directory\": \"/home/alice/data\",\n",
    "    #     \"download.prompt_for_download\": False,\n",
    "    #     \"download.directory_upgrade\": True,\n",
    "    #     \"safebrowsing_for_trusted_sources_enabled\": False,\n",
    "    #     \"safebrowsing.enabled\": False\n",
    "    # })\n",
    "\n",
    "    if proxy is None:\n",
    "        return webdriver.Chrome(service=Service(ChromeDriverManager().install()), options=options)\n",
    "        # return webdriver.Firefox()\n",
    "    else:\n",
    "        prox = Proxy()\n",
    "        prox.proxy_type = ProxyType.MANUAL\n",
    "        prox.http_proxy = proxy.split(\"//\")[-1]\n",
    "        prox.ssl_proxy = proxy.split(\"//\")[-1]\n",
    "        capabilities = webdriver.DesiredCapabilities.CHROME\n",
    "        prox.add_to_capabilities(capabilities)\n",
    "        return webdriver.Chrome(desired_capabilities=capabilities, options=options)\n"
   ]
  },
  {
   "cell_type": "code",
   "execution_count": 16,
   "id": "5caad11c-e763-48cb-a45c-a47c21b07d77",
   "metadata": {},
   "outputs": [
    {
     "name": "stdout",
     "output_type": "stream",
     "text": [
      "proxy: None\n",
      "Moneyness\n",
      "Near the Money\n"
     ]
    }
   ],
   "source": [
    "\n",
    "\n",
    "\n",
    "#url = \"https://www.aphanti.com/blog/27/\"\n",
    "#url = \"https://www.happycow.net/north_america/usa/\"\n",
    "# url = \"https://www.redfin.com/county/1347/MA/Worcester-County\"\n",
    "# url = 'https://www.nasdaq.com/market-activity/stocks/screener'\n",
    "url = 'https://www.nasdaq.com/market-activity/stocks/aapl/option-chain'\n",
    "\n",
    "# proxy = random.choice(json.load(open('../src/pre-defined/proxies.json', 'r')))['proxy']\n",
    "proxy = None \n",
    "# header = random.choice(json.load(open('../data/headers.json', 'r')))\n",
    "print('proxy:', proxy)\n",
    "# print('header:', header)\n",
    "\n",
    "driver = setup_driver(proxy, headless=False)\n",
    "enable_download_headless(driver, \"/home/alice/data\")\n",
    "\n",
    "driver.get(url)\n",
    "time.sleep(1)\n",
    "driver.execute_script(\"window.scrollTo(0, 300)\")\n",
    "# WebDriverWait(driver, 10).until(EC.element_to_be_clickable((By.CLASS_NAME, \"nasdaq-screener__download\"))) #.click()\n",
    "WebDriverWait(driver, 10).until(EC.element_to_be_clickable((By.CLASS_NAME, \"jupiter22-option-chain-filter-moneyness\"))) #.click()\n",
    "div = driver.find_element(By.CLASS_NAME, \"jupiter22-option-chain-filter-moneyness\")\n",
    "print(div.text)\n",
    "\n",
    "\n",
    "# print('navigator.webdriver: ', driver.execute_script(\"return navigator.webdriver;\"))\n",
    "# WebDriverWait(driver, 10).until(EC.frame_to_be_available_and_switch_to_it((By.CSS_SELECTOR,\"iframe[name^='a-'][src^='https://www.google.com/recaptcha/api2/anchor?']\"))) \n",
    "# WebDriverWait(driver, 10).until(EC.element_to_be_clickable((By.XPATH, \"//span[@id='recaptcha-anchor']\"))).click() \n",
    "\n",
    "#open('test2.html', 'w').write(driver.page_source)"
   ]
  },
  {
   "cell_type": "code",
   "execution_count": 10,
   "id": "7395d7a5-5913-46c4-92d1-67aa4beda474",
   "metadata": {},
   "outputs": [
    {
     "name": "stdout",
     "output_type": "stream",
     "text": [
      "Download CSV\n"
     ]
    }
   ],
   "source": [
    "div = driver.find_element(By.CLASS_NAME, \"nasdaq-screener__form-button--download\")\n",
    "print(div.text)\n",
    "time.sleep(3)\n",
    "driver.execute_script(\"arguments[0].click();\", div)\n"
   ]
  },
  {
   "cell_type": "code",
   "execution_count": 17,
   "id": "ed439b4d-b2f9-4567-812e-9c2aeacd4d8e",
   "metadata": {},
   "outputs": [],
   "source": [
    "driver.execute_script(\"window.scrollTo(0, 600)\")\n"
   ]
  },
  {
   "cell_type": "code",
   "execution_count": 20,
   "id": "d2789e1f-4b86-4a91-8922-b68f8dedcf80",
   "metadata": {},
   "outputs": [
    {
     "name": "stdout",
     "output_type": "stream",
     "text": [
      "Near the Money\n"
     ]
    }
   ],
   "source": [
    "label = div.find_element(By.CLASS_NAME, \"jupiter22-option-chain-filter-toggle-moneyness\")\n",
    "print(label.text)\n",
    "label.click()"
   ]
  },
  {
   "cell_type": "code",
   "execution_count": 23,
   "id": "f5691d6b-6cba-4e87-8199-c16142bd1052",
   "metadata": {},
   "outputs": [
    {
     "ename": "NoSuchElementException",
     "evalue": "Message: no such element: Unable to locate element: {\"method\":\"xpath\",\"selector\":\"//div[text()='All (Moneyness)']\"}\n  (Session info: chrome=127.0.6533.72); For documentation on this error, please visit: https://www.selenium.dev/documentation/webdriver/troubleshooting/errors#no-such-element-exception\nStacktrace:\n#0 0x5cc58c4de6ba <unknown>\n#1 0x5cc58c1ae730 <unknown>\n#2 0x5cc58c1fdd9b <unknown>\n#3 0x5cc58c1fe081 <unknown>\n#4 0x5cc58c1f2826 <unknown>\n#5 0x5cc58c220a7d <unknown>\n#6 0x5cc58c1f2719 <unknown>\n#7 0x5cc58c220c1e <unknown>\n#8 0x5cc58c23f1ca <unknown>\n#9 0x5cc58c2207f3 <unknown>\n#10 0x5cc58c1f0ec9 <unknown>\n#11 0x5cc58c1f191e <unknown>\n#12 0x5cc58c4a49eb <unknown>\n#13 0x5cc58c4a8972 <unknown>\n#14 0x5cc58c491e15 <unknown>\n#15 0x5cc58c4a9502 <unknown>\n#16 0x5cc58c476d2f <unknown>\n#17 0x5cc58c4cd578 <unknown>\n#18 0x5cc58c4cd750 <unknown>\n#19 0x5cc58c4dd48c <unknown>\n#20 0x7b3beb694ac3 <unknown>\n",
     "output_type": "error",
     "traceback": [
      "\u001b[0;31m---------------------------------------------------------------------------\u001b[0m",
      "\u001b[0;31mNoSuchElementException\u001b[0m                    Traceback (most recent call last)",
      "Cell \u001b[0;32mIn[23], line 1\u001b[0m\n\u001b[0;32m----> 1\u001b[0m target \u001b[38;5;241m=\u001b[39m \u001b[43mdiv\u001b[49m\u001b[38;5;241;43m.\u001b[39;49m\u001b[43mfind_element\u001b[49m\u001b[43m(\u001b[49m\u001b[38;5;124;43m\"\u001b[39;49m\u001b[38;5;124;43mxpath\u001b[39;49m\u001b[38;5;124;43m\"\u001b[39;49m\u001b[43m,\u001b[49m\u001b[43m \u001b[49m\u001b[38;5;124;43m\"\u001b[39;49m\u001b[38;5;124;43m//div[text()=\u001b[39;49m\u001b[38;5;124;43m'\u001b[39;49m\u001b[38;5;124;43mAll (Moneyness)\u001b[39;49m\u001b[38;5;124;43m'\u001b[39;49m\u001b[38;5;124;43m]\u001b[39;49m\u001b[38;5;124;43m\"\u001b[39;49m\u001b[43m)\u001b[49m\n\u001b[1;32m      2\u001b[0m \u001b[38;5;28mprint\u001b[39m(target\u001b[38;5;241m.\u001b[39mtext)\n",
      "File \u001b[0;32m~/.local/lib/python3.10/site-packages/selenium/webdriver/remote/webelement.py:417\u001b[0m, in \u001b[0;36mWebElement.find_element\u001b[0;34m(self, by, value)\u001b[0m\n\u001b[1;32m    414\u001b[0m     by \u001b[38;5;241m=\u001b[39m By\u001b[38;5;241m.\u001b[39mCSS_SELECTOR\n\u001b[1;32m    415\u001b[0m     value \u001b[38;5;241m=\u001b[39m \u001b[38;5;124mf\u001b[39m\u001b[38;5;124m'\u001b[39m\u001b[38;5;124m[name=\u001b[39m\u001b[38;5;124m\"\u001b[39m\u001b[38;5;132;01m{\u001b[39;00mvalue\u001b[38;5;132;01m}\u001b[39;00m\u001b[38;5;124m\"\u001b[39m\u001b[38;5;124m]\u001b[39m\u001b[38;5;124m'\u001b[39m\n\u001b[0;32m--> 417\u001b[0m \u001b[38;5;28;01mreturn\u001b[39;00m \u001b[38;5;28;43mself\u001b[39;49m\u001b[38;5;241;43m.\u001b[39;49m\u001b[43m_execute\u001b[49m\u001b[43m(\u001b[49m\u001b[43mCommand\u001b[49m\u001b[38;5;241;43m.\u001b[39;49m\u001b[43mFIND_CHILD_ELEMENT\u001b[49m\u001b[43m,\u001b[49m\u001b[43m \u001b[49m\u001b[43m{\u001b[49m\u001b[38;5;124;43m\"\u001b[39;49m\u001b[38;5;124;43musing\u001b[39;49m\u001b[38;5;124;43m\"\u001b[39;49m\u001b[43m:\u001b[49m\u001b[43m \u001b[49m\u001b[43mby\u001b[49m\u001b[43m,\u001b[49m\u001b[43m \u001b[49m\u001b[38;5;124;43m\"\u001b[39;49m\u001b[38;5;124;43mvalue\u001b[39;49m\u001b[38;5;124;43m\"\u001b[39;49m\u001b[43m:\u001b[49m\u001b[43m \u001b[49m\u001b[43mvalue\u001b[49m\u001b[43m}\u001b[49m\u001b[43m)\u001b[49m[\u001b[38;5;124m\"\u001b[39m\u001b[38;5;124mvalue\u001b[39m\u001b[38;5;124m\"\u001b[39m]\n",
      "File \u001b[0;32m~/.local/lib/python3.10/site-packages/selenium/webdriver/remote/webelement.py:395\u001b[0m, in \u001b[0;36mWebElement._execute\u001b[0;34m(self, command, params)\u001b[0m\n\u001b[1;32m    393\u001b[0m     params \u001b[38;5;241m=\u001b[39m {}\n\u001b[1;32m    394\u001b[0m params[\u001b[38;5;124m\"\u001b[39m\u001b[38;5;124mid\u001b[39m\u001b[38;5;124m\"\u001b[39m] \u001b[38;5;241m=\u001b[39m \u001b[38;5;28mself\u001b[39m\u001b[38;5;241m.\u001b[39m_id\n\u001b[0;32m--> 395\u001b[0m \u001b[38;5;28;01mreturn\u001b[39;00m \u001b[38;5;28;43mself\u001b[39;49m\u001b[38;5;241;43m.\u001b[39;49m\u001b[43m_parent\u001b[49m\u001b[38;5;241;43m.\u001b[39;49m\u001b[43mexecute\u001b[49m\u001b[43m(\u001b[49m\u001b[43mcommand\u001b[49m\u001b[43m,\u001b[49m\u001b[43m \u001b[49m\u001b[43mparams\u001b[49m\u001b[43m)\u001b[49m\n",
      "File \u001b[0;32m~/.local/lib/python3.10/site-packages/selenium/webdriver/remote/webdriver.py:354\u001b[0m, in \u001b[0;36mWebDriver.execute\u001b[0;34m(self, driver_command, params)\u001b[0m\n\u001b[1;32m    352\u001b[0m response \u001b[38;5;241m=\u001b[39m \u001b[38;5;28mself\u001b[39m\u001b[38;5;241m.\u001b[39mcommand_executor\u001b[38;5;241m.\u001b[39mexecute(driver_command, params)\n\u001b[1;32m    353\u001b[0m \u001b[38;5;28;01mif\u001b[39;00m response:\n\u001b[0;32m--> 354\u001b[0m     \u001b[38;5;28;43mself\u001b[39;49m\u001b[38;5;241;43m.\u001b[39;49m\u001b[43merror_handler\u001b[49m\u001b[38;5;241;43m.\u001b[39;49m\u001b[43mcheck_response\u001b[49m\u001b[43m(\u001b[49m\u001b[43mresponse\u001b[49m\u001b[43m)\u001b[49m\n\u001b[1;32m    355\u001b[0m     response[\u001b[38;5;124m\"\u001b[39m\u001b[38;5;124mvalue\u001b[39m\u001b[38;5;124m\"\u001b[39m] \u001b[38;5;241m=\u001b[39m \u001b[38;5;28mself\u001b[39m\u001b[38;5;241m.\u001b[39m_unwrap_value(response\u001b[38;5;241m.\u001b[39mget(\u001b[38;5;124m\"\u001b[39m\u001b[38;5;124mvalue\u001b[39m\u001b[38;5;124m\"\u001b[39m, \u001b[38;5;28;01mNone\u001b[39;00m))\n\u001b[1;32m    356\u001b[0m     \u001b[38;5;28;01mreturn\u001b[39;00m response\n",
      "File \u001b[0;32m~/.local/lib/python3.10/site-packages/selenium/webdriver/remote/errorhandler.py:229\u001b[0m, in \u001b[0;36mErrorHandler.check_response\u001b[0;34m(self, response)\u001b[0m\n\u001b[1;32m    227\u001b[0m         alert_text \u001b[38;5;241m=\u001b[39m value[\u001b[38;5;124m\"\u001b[39m\u001b[38;5;124malert\u001b[39m\u001b[38;5;124m\"\u001b[39m]\u001b[38;5;241m.\u001b[39mget(\u001b[38;5;124m\"\u001b[39m\u001b[38;5;124mtext\u001b[39m\u001b[38;5;124m\"\u001b[39m)\n\u001b[1;32m    228\u001b[0m     \u001b[38;5;28;01mraise\u001b[39;00m exception_class(message, screen, stacktrace, alert_text)  \u001b[38;5;66;03m# type: ignore[call-arg]  # mypy is not smart enough here\u001b[39;00m\n\u001b[0;32m--> 229\u001b[0m \u001b[38;5;28;01mraise\u001b[39;00m exception_class(message, screen, stacktrace)\n",
      "\u001b[0;31mNoSuchElementException\u001b[0m: Message: no such element: Unable to locate element: {\"method\":\"xpath\",\"selector\":\"//div[text()='All (Moneyness)']\"}\n  (Session info: chrome=127.0.6533.72); For documentation on this error, please visit: https://www.selenium.dev/documentation/webdriver/troubleshooting/errors#no-such-element-exception\nStacktrace:\n#0 0x5cc58c4de6ba <unknown>\n#1 0x5cc58c1ae730 <unknown>\n#2 0x5cc58c1fdd9b <unknown>\n#3 0x5cc58c1fe081 <unknown>\n#4 0x5cc58c1f2826 <unknown>\n#5 0x5cc58c220a7d <unknown>\n#6 0x5cc58c1f2719 <unknown>\n#7 0x5cc58c220c1e <unknown>\n#8 0x5cc58c23f1ca <unknown>\n#9 0x5cc58c2207f3 <unknown>\n#10 0x5cc58c1f0ec9 <unknown>\n#11 0x5cc58c1f191e <unknown>\n#12 0x5cc58c4a49eb <unknown>\n#13 0x5cc58c4a8972 <unknown>\n#14 0x5cc58c491e15 <unknown>\n#15 0x5cc58c4a9502 <unknown>\n#16 0x5cc58c476d2f <unknown>\n#17 0x5cc58c4cd578 <unknown>\n#18 0x5cc58c4cd750 <unknown>\n#19 0x5cc58c4dd48c <unknown>\n#20 0x7b3beb694ac3 <unknown>\n"
     ]
    }
   ],
   "source": [
    "target = div.find_element(\"xpath\", \"//div[text()='All (Moneyness)']\")\n",
    "print(target.text)\n"
   ]
  },
  {
   "cell_type": "code",
   "execution_count": null,
   "id": "a5bad676-cca5-4a5d-9f95-41de368bc916",
   "metadata": {},
   "outputs": [],
   "source": []
  }
 ],
 "metadata": {
  "kernelspec": {
   "display_name": "Python 3 (ipykernel)",
   "language": "python",
   "name": "python3"
  },
  "language_info": {
   "codemirror_mode": {
    "name": "ipython",
    "version": 3
   },
   "file_extension": ".py",
   "mimetype": "text/x-python",
   "name": "python",
   "nbconvert_exporter": "python",
   "pygments_lexer": "ipython3",
   "version": "3.10.12"
  }
 },
 "nbformat": 4,
 "nbformat_minor": 5
}
